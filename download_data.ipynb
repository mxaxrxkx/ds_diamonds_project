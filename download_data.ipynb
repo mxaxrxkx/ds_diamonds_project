{
 "cells": [
  {
   "cell_type": "code",
   "execution_count": 22,
   "metadata": {},
   "outputs": [],
   "source": [
    "import numpy as np\n",
    "import pandas as pd"
   ]
  },
  {
   "cell_type": "code",
   "execution_count": 23,
   "metadata": {},
   "outputs": [],
   "source": [
    "#!pip install kaggle #uncomment to install kaggle api"
   ]
  },
  {
   "cell_type": "code",
   "execution_count": 24,
   "metadata": {},
   "outputs": [
    {
     "name": "stdout",
     "output_type": "stream",
     "text": [
      "Downloading diamonds.zip to /home/msz/Documents/kaggle_projects/diamonds\n",
      "100%|████████████████████████████████████████| 733k/733k [00:00<00:00, 1.97MB/s]\n",
      "100%|████████████████████████████████████████| 733k/733k [00:00<00:00, 1.97MB/s]\n"
     ]
    }
   ],
   "source": [
    "!kaggle datasets download shivam2503/diamonds --unzip"
   ]
  },
  {
   "cell_type": "markdown",
   "metadata": {},
   "source": [
    "### Load downloaded dataset"
   ]
  },
  {
   "cell_type": "code",
   "execution_count": 25,
   "metadata": {},
   "outputs": [],
   "source": [
    "diamonds = pd.read_csv('diamonds.csv', index_col=0)"
   ]
  },
  {
   "cell_type": "markdown",
   "metadata": {},
   "source": [
    "### Rename columns 'x', 'y', 'z' to 'lenght', 'width', 'depth' (mm)"
   ]
  },
  {
   "cell_type": "code",
   "execution_count": 26,
   "metadata": {},
   "outputs": [],
   "source": [
    "diamonds.rename(columns = {'x': 'lenght_x',\n",
    "                          'y': 'width_y',\n",
    "                          'z': 'depth_z'}, inplace=True)"
   ]
  },
  {
   "cell_type": "markdown",
   "metadata": {},
   "source": [
    "### Check if there are any 0 values"
   ]
  },
  {
   "cell_type": "code",
   "execution_count": 27,
   "metadata": {},
   "outputs": [
    {
     "name": "stdout",
     "output_type": "stream",
     "text": [
      "Number of rows with lenght_x == 0: 8\n",
      "Number of rows with width_y == 0: 7\n",
      "Number of rows with depth_z == 0: 20\n",
      "Number of rows with depth == 0: 0\n"
     ]
    }
   ],
   "source": [
    "print(f\"Number of rows with lenght_x == 0: {(diamonds.lenght_x==0).sum()}\")\n",
    "print(f\"Number of rows with width_y == 0: {(diamonds.width_y==0).sum()}\")\n",
    "print(f\"Number of rows with depth_z == 0: {(diamonds.depth_z==0).sum()}\")\n",
    "print(f\"Number of rows with depth == 0: {(diamonds.depth==0).sum()}\")"
   ]
  },
  {
   "cell_type": "markdown",
   "metadata": {},
   "source": [
    "#### Remove rows with 0 values"
   ]
  },
  {
   "cell_type": "code",
   "execution_count": 28,
   "metadata": {},
   "outputs": [],
   "source": [
    "diamonds[['lenght_x', 'width_y', 'depth_z']] = diamonds[['lenght_x', 'width_y', 'depth_z']].replace(0, np.NaN)\n",
    "diamonds.dropna(inplace=True)"
   ]
  },
  {
   "cell_type": "code",
   "execution_count": 29,
   "metadata": {},
   "outputs": [
    {
     "data": {
      "text/plain": [
       "carat       0\n",
       "cut         0\n",
       "color       0\n",
       "clarity     0\n",
       "depth       0\n",
       "table       0\n",
       "price       0\n",
       "lenght_x    0\n",
       "width_y     0\n",
       "depth_z     0\n",
       "dtype: int64"
      ]
     },
     "execution_count": 29,
     "metadata": {},
     "output_type": "execute_result"
    }
   ],
   "source": [
    "diamonds.isna().sum()"
   ]
  },
  {
   "cell_type": "code",
   "execution_count": 30,
   "metadata": {},
   "outputs": [],
   "source": [
    "diamonds.to_csv('diamonds_renamed_cols.csv', index=False)"
   ]
  }
 ],
 "metadata": {
  "kernelspec": {
   "display_name": "Python 3",
   "language": "python",
   "name": "python3"
  },
  "language_info": {
   "codemirror_mode": {
    "name": "ipython",
    "version": 3
   },
   "file_extension": ".py",
   "mimetype": "text/x-python",
   "name": "python",
   "nbconvert_exporter": "python",
   "pygments_lexer": "ipython3",
   "version": "3.7.4"
  }
 },
 "nbformat": 4,
 "nbformat_minor": 4
}
