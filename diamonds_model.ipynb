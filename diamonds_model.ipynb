{
 "cells": [
  {
   "cell_type": "code",
   "execution_count": 27,
   "metadata": {},
   "outputs": [],
   "source": [
    "import numpy as np\n",
    "import pandas as pd\n",
    "from sklearn.model_selection import train_test_split, cross_val_score, GridSearchCV\n",
    "from sklearn.preprocessing import OrdinalEncoder, StandardScaler\n",
    "from sklearn.ensemble import RandomForestRegressor\n",
    "from sklearn.linear_model import LinearRegression, Lasso, Ridge\n",
    "from sklearn.metrics import mean_squared_error, r2_score, make_scorer"
   ]
  },
  {
   "cell_type": "code",
   "execution_count": 2,
   "metadata": {},
   "outputs": [],
   "source": [
    "class model_performance:\n",
    "    \n",
    "    def __init__(self, model):\n",
    "        self.model = model\n",
    "\n",
    "    def rmse(self, X, y):\n",
    "        prediction = self.model.predict(X)\n",
    "        mse = mean_squared_error(y, prediction)\n",
    "        rmse = np.sqrt(mse)\n",
    "        return rmse\n",
    "    \n",
    "    def r2(self, X, y):\n",
    "        prediction = self.model.predict(X)\n",
    "        r2 = np.sqrt(r2_score((y),(prediction)))\n",
    "        return r2\n",
    "    \n",
    "    def cross_validation_scores(self, X, y):\n",
    "        scores = cross_val_score(self.model, X, y, scoring=\"neg_mean_squared_error\", cv=10)\n",
    "        scores = np.sqrt(-scores)\n",
    "        return scores\n",
    "          \n",
    "    def print_metrics(self, X, y):\n",
    "        print(f'RMSE: {self.rmse(X, y)}')\n",
    "        print(f'R2: {self.r2(X, y)}')\n",
    "        print('\\nCross_validation:')\n",
    "        print(f'Mean: {self.cross_validation_scores(X, y).mean()}')\n",
    "        print(f'SD: {self.cross_validation_scores(X, y).std()}')"
   ]
  },
  {
   "cell_type": "markdown",
   "metadata": {},
   "source": [
    "### Import the dataset saved after EDA"
   ]
  },
  {
   "cell_type": "code",
   "execution_count": 3,
   "metadata": {},
   "outputs": [
    {
     "data": {
      "text/html": [
       "<div>\n",
       "<style scoped>\n",
       "    .dataframe tbody tr th:only-of-type {\n",
       "        vertical-align: middle;\n",
       "    }\n",
       "\n",
       "    .dataframe tbody tr th {\n",
       "        vertical-align: top;\n",
       "    }\n",
       "\n",
       "    .dataframe thead th {\n",
       "        text-align: right;\n",
       "    }\n",
       "</style>\n",
       "<table border=\"1\" class=\"dataframe\">\n",
       "  <thead>\n",
       "    <tr style=\"text-align: right;\">\n",
       "      <th></th>\n",
       "      <th>carat</th>\n",
       "      <th>cut</th>\n",
       "      <th>color</th>\n",
       "      <th>clarity</th>\n",
       "      <th>price</th>\n",
       "      <th>lenght_x</th>\n",
       "      <th>width_y</th>\n",
       "      <th>depth_z</th>\n",
       "    </tr>\n",
       "  </thead>\n",
       "  <tbody>\n",
       "    <tr>\n",
       "      <th>0</th>\n",
       "      <td>0.23</td>\n",
       "      <td>Ideal</td>\n",
       "      <td>E</td>\n",
       "      <td>SI2</td>\n",
       "      <td>326</td>\n",
       "      <td>3.95</td>\n",
       "      <td>3.98</td>\n",
       "      <td>2.43</td>\n",
       "    </tr>\n",
       "    <tr>\n",
       "      <th>1</th>\n",
       "      <td>0.21</td>\n",
       "      <td>Premium</td>\n",
       "      <td>E</td>\n",
       "      <td>SI1</td>\n",
       "      <td>326</td>\n",
       "      <td>3.89</td>\n",
       "      <td>3.84</td>\n",
       "      <td>2.31</td>\n",
       "    </tr>\n",
       "    <tr>\n",
       "      <th>2</th>\n",
       "      <td>0.23</td>\n",
       "      <td>Good</td>\n",
       "      <td>E</td>\n",
       "      <td>VS1</td>\n",
       "      <td>327</td>\n",
       "      <td>4.05</td>\n",
       "      <td>4.07</td>\n",
       "      <td>2.31</td>\n",
       "    </tr>\n",
       "    <tr>\n",
       "      <th>3</th>\n",
       "      <td>0.29</td>\n",
       "      <td>Premium</td>\n",
       "      <td>I</td>\n",
       "      <td>VS2</td>\n",
       "      <td>334</td>\n",
       "      <td>4.20</td>\n",
       "      <td>4.23</td>\n",
       "      <td>2.63</td>\n",
       "    </tr>\n",
       "    <tr>\n",
       "      <th>4</th>\n",
       "      <td>0.31</td>\n",
       "      <td>Good</td>\n",
       "      <td>J</td>\n",
       "      <td>SI2</td>\n",
       "      <td>335</td>\n",
       "      <td>4.34</td>\n",
       "      <td>4.35</td>\n",
       "      <td>2.75</td>\n",
       "    </tr>\n",
       "  </tbody>\n",
       "</table>\n",
       "</div>"
      ],
      "text/plain": [
       "   carat      cut color clarity  price  lenght_x  width_y  depth_z\n",
       "0   0.23    Ideal     E     SI2    326      3.95     3.98     2.43\n",
       "1   0.21  Premium     E     SI1    326      3.89     3.84     2.31\n",
       "2   0.23     Good     E     VS1    327      4.05     4.07     2.31\n",
       "3   0.29  Premium     I     VS2    334      4.20     4.23     2.63\n",
       "4   0.31     Good     J     SI2    335      4.34     4.35     2.75"
      ]
     },
     "execution_count": 3,
     "metadata": {},
     "output_type": "execute_result"
    }
   ],
   "source": [
    "diamonds = pd.read_csv('diamonds_eda.csv')\n",
    "diamonds.head()"
   ]
  },
  {
   "cell_type": "markdown",
   "metadata": {},
   "source": [
    "### Split dataset to train and test set"
   ]
  },
  {
   "cell_type": "markdown",
   "metadata": {},
   "source": [
    "Create X and y"
   ]
  },
  {
   "cell_type": "code",
   "execution_count": 4,
   "metadata": {},
   "outputs": [],
   "source": [
    "X = diamonds.drop('price', axis=1)\n",
    "y = diamonds['price']"
   ]
  },
  {
   "cell_type": "code",
   "execution_count": 5,
   "metadata": {},
   "outputs": [
    {
     "data": {
      "text/plain": [
       "((53917, 7), (53917,))"
      ]
     },
     "execution_count": 5,
     "metadata": {},
     "output_type": "execute_result"
    }
   ],
   "source": [
    "X.shape, y.shape"
   ]
  },
  {
   "cell_type": "code",
   "execution_count": 6,
   "metadata": {},
   "outputs": [],
   "source": [
    "X_train, X_test, y_train, y_test = train_test_split(X, y, test_size=0.2, random_state=1)"
   ]
  },
  {
   "cell_type": "code",
   "execution_count": 7,
   "metadata": {},
   "outputs": [
    {
     "data": {
      "text/html": [
       "<div>\n",
       "<style scoped>\n",
       "    .dataframe tbody tr th:only-of-type {\n",
       "        vertical-align: middle;\n",
       "    }\n",
       "\n",
       "    .dataframe tbody tr th {\n",
       "        vertical-align: top;\n",
       "    }\n",
       "\n",
       "    .dataframe thead th {\n",
       "        text-align: right;\n",
       "    }\n",
       "</style>\n",
       "<table border=\"1\" class=\"dataframe\">\n",
       "  <thead>\n",
       "    <tr style=\"text-align: right;\">\n",
       "      <th></th>\n",
       "      <th>carat</th>\n",
       "      <th>cut</th>\n",
       "      <th>color</th>\n",
       "      <th>clarity</th>\n",
       "      <th>lenght_x</th>\n",
       "      <th>width_y</th>\n",
       "      <th>depth_z</th>\n",
       "    </tr>\n",
       "  </thead>\n",
       "  <tbody>\n",
       "    <tr>\n",
       "      <th>31745</th>\n",
       "      <td>0.35</td>\n",
       "      <td>Ideal</td>\n",
       "      <td>H</td>\n",
       "      <td>VVS1</td>\n",
       "      <td>4.55</td>\n",
       "      <td>4.58</td>\n",
       "      <td>2.78</td>\n",
       "    </tr>\n",
       "    <tr>\n",
       "      <th>20164</th>\n",
       "      <td>1.02</td>\n",
       "      <td>Very Good</td>\n",
       "      <td>F</td>\n",
       "      <td>VVS2</td>\n",
       "      <td>6.58</td>\n",
       "      <td>6.69</td>\n",
       "      <td>3.94</td>\n",
       "    </tr>\n",
       "    <tr>\n",
       "      <th>24520</th>\n",
       "      <td>1.52</td>\n",
       "      <td>Premium</td>\n",
       "      <td>D</td>\n",
       "      <td>SI1</td>\n",
       "      <td>7.55</td>\n",
       "      <td>7.51</td>\n",
       "      <td>4.50</td>\n",
       "    </tr>\n",
       "    <tr>\n",
       "      <th>42435</th>\n",
       "      <td>0.50</td>\n",
       "      <td>Ideal</td>\n",
       "      <td>E</td>\n",
       "      <td>SI1</td>\n",
       "      <td>5.09</td>\n",
       "      <td>5.13</td>\n",
       "      <td>3.15</td>\n",
       "    </tr>\n",
       "    <tr>\n",
       "      <th>10254</th>\n",
       "      <td>1.01</td>\n",
       "      <td>Premium</td>\n",
       "      <td>E</td>\n",
       "      <td>SI2</td>\n",
       "      <td>6.39</td>\n",
       "      <td>6.36</td>\n",
       "      <td>3.99</td>\n",
       "    </tr>\n",
       "  </tbody>\n",
       "</table>\n",
       "</div>"
      ],
      "text/plain": [
       "       carat        cut color clarity  lenght_x  width_y  depth_z\n",
       "31745   0.35      Ideal     H    VVS1      4.55     4.58     2.78\n",
       "20164   1.02  Very Good     F    VVS2      6.58     6.69     3.94\n",
       "24520   1.52    Premium     D     SI1      7.55     7.51     4.50\n",
       "42435   0.50      Ideal     E     SI1      5.09     5.13     3.15\n",
       "10254   1.01    Premium     E     SI2      6.39     6.36     3.99"
      ]
     },
     "execution_count": 7,
     "metadata": {},
     "output_type": "execute_result"
    }
   ],
   "source": [
    "X_train.head()"
   ]
  },
  {
   "cell_type": "code",
   "execution_count": 8,
   "metadata": {},
   "outputs": [
    {
     "data": {
      "text/plain": [
       "((43133, 7), (43133,))"
      ]
     },
     "execution_count": 8,
     "metadata": {},
     "output_type": "execute_result"
    }
   ],
   "source": [
    "X_train.shape, y_train.shape"
   ]
  },
  {
   "cell_type": "markdown",
   "metadata": {},
   "source": [
    "### run Ordinal encoder on cut, color, clarity"
   ]
  },
  {
   "cell_type": "code",
   "execution_count": 9,
   "metadata": {},
   "outputs": [],
   "source": [
    "categories = [['Fair', 'Good', 'Very Good', 'Ideal', 'Premium'],\n",
    "             ['D', 'E', 'F', 'G', 'H', 'I', 'J'],\n",
    "             ['I1','SI2', 'SI1', 'VS2',  'VS1', 'VVS2', 'VVS1', 'IF']]"
   ]
  },
  {
   "cell_type": "code",
   "execution_count": 10,
   "metadata": {},
   "outputs": [],
   "source": [
    "obj_cols = ['cut', 'color', 'clarity']"
   ]
  },
  {
   "cell_type": "code",
   "execution_count": 11,
   "metadata": {},
   "outputs": [],
   "source": [
    "ordinal_encoder = OrdinalEncoder(categories=categories)"
   ]
  },
  {
   "cell_type": "code",
   "execution_count": 12,
   "metadata": {},
   "outputs": [],
   "source": [
    "X_train_cat = X_train[obj_cols]\n",
    "X_test_cat = X_test[obj_cols]"
   ]
  },
  {
   "cell_type": "code",
   "execution_count": 13,
   "metadata": {},
   "outputs": [],
   "source": [
    "ordinal_encoder.fit(X_train_cat)\n",
    "X_train_oe = pd.DataFrame(ordinal_encoder.transform(X_train_cat))\n",
    "X_test_oe = pd.DataFrame(ordinal_encoder.transform(X_test_cat))"
   ]
  },
  {
   "cell_type": "code",
   "execution_count": 14,
   "metadata": {},
   "outputs": [],
   "source": [
    "X_train_oe.index = X_train.index\n",
    "X_train_oe.columns = X_train_cat.columns\n",
    "\n",
    "X_test_oe.index = X_test.index\n",
    "X_test_oe.columns = X_test_cat.columns"
   ]
  },
  {
   "cell_type": "markdown",
   "metadata": {},
   "source": [
    "### Normalise numerical variables with StandardScaler"
   ]
  },
  {
   "cell_type": "code",
   "execution_count": 15,
   "metadata": {},
   "outputs": [],
   "source": [
    "num_X_train = X_train.drop(obj_cols, axis=1)\n",
    "num_X_test = X_test.drop(obj_cols, axis=1)"
   ]
  },
  {
   "cell_type": "code",
   "execution_count": 16,
   "metadata": {},
   "outputs": [],
   "source": [
    "scaler = StandardScaler()\n",
    "num_X_train_scaled = pd.DataFrame(scaler.fit_transform(num_X_train))\n",
    "num_X_train_scaled.columns = num_X_train.columns\n",
    "num_X_train_scaled.index = num_X_train.index\n",
    "\n",
    "num_X_test_scaled = pd.DataFrame(scaler.transform(num_X_test))\n",
    "num_X_test_scaled.columns = num_X_test.columns\n",
    "num_X_test_scaled.index = num_X_test.index"
   ]
  },
  {
   "cell_type": "markdown",
   "metadata": {},
   "source": [
    "### Merge categorical and numerical variables"
   ]
  },
  {
   "cell_type": "code",
   "execution_count": 17,
   "metadata": {},
   "outputs": [],
   "source": [
    "X_train = pd.concat([num_X_train_scaled, X_train_oe], axis=1)\n",
    "X_test = pd.concat([num_X_test_scaled, X_test_oe], axis=1)"
   ]
  },
  {
   "cell_type": "markdown",
   "metadata": {},
   "source": [
    "## Models"
   ]
  },
  {
   "cell_type": "markdown",
   "metadata": {},
   "source": [
    "### Linear Regression"
   ]
  },
  {
   "cell_type": "code",
   "execution_count": 18,
   "metadata": {},
   "outputs": [],
   "source": [
    "lm = LinearRegression()\n",
    "lm_model = lm.fit(X_train, y_train)"
   ]
  },
  {
   "cell_type": "code",
   "execution_count": 19,
   "metadata": {},
   "outputs": [
    {
     "name": "stdout",
     "output_type": "stream",
     "text": [
      "RMSE: 1223.4991085861132\n",
      "R2: 0.9521052065649455\n",
      "\n",
      "Cross_validation:\n",
      "Mean: 1223.7471260610243\n",
      "SD: 33.300100013323586\n"
     ]
    }
   ],
   "source": [
    "model_eval = model_performance(lm_model)\n",
    "model_eval.print_metrics(X_train, y_train)"
   ]
  },
  {
   "cell_type": "markdown",
   "metadata": {},
   "source": [
    "### Polynomial regression"
   ]
  },
  {
   "cell_type": "code",
   "execution_count": 34,
   "metadata": {},
   "outputs": [],
   "source": [
    "from sklearn.preprocessing import PolynomialFeatures\n",
    "poly = PolynomialFeatures(degree=3)"
   ]
  },
  {
   "cell_type": "code",
   "execution_count": 35,
   "metadata": {},
   "outputs": [
    {
     "name": "stdout",
     "output_type": "stream",
     "text": [
      "(43133, 120)\n"
     ]
    }
   ],
   "source": [
    "X_train_poly = poly.fit_transform(X_train)\n",
    "print(X_train_poly.shape)"
   ]
  },
  {
   "cell_type": "code",
   "execution_count": 36,
   "metadata": {},
   "outputs": [],
   "source": [
    "pr_model = lm.fit(X_train_poly, y_train)"
   ]
  },
  {
   "cell_type": "code",
   "execution_count": 37,
   "metadata": {},
   "outputs": [
    {
     "name": "stdout",
     "output_type": "stream",
     "text": [
      "RMSE: 604.780864300095\n",
      "R2: 0.988511796480447\n",
      "\n",
      "Cross_validation:\n",
      "Mean: 689.2143960227008\n",
      "SD: 112.00841564199085\n"
     ]
    }
   ],
   "source": [
    "model_eval = model_performance(pr_model)\n",
    "model_eval.print_metrics(X_train_poly, y_train)"
   ]
  },
  {
   "cell_type": "code",
   "execution_count": 23,
   "metadata": {},
   "outputs": [],
   "source": [
    "lml = Lasso()"
   ]
  },
  {
   "cell_type": "code",
   "execution_count": 46,
   "metadata": {},
   "outputs": [],
   "source": [
    "alpha = []\n",
    "error = []\n",
    "for i in range(1,100):\n",
    "    alpha.append(i/100)\n",
    "    lml = Lasso(alpha=(i/100), max_iter=5000)\n",
    "    error.append(np.mean(cross_val_score(lml, X_train, y_train, scoring='neg_mean_absolute_error', cv=6)))"
   ]
  },
  {
   "cell_type": "code",
   "execution_count": 47,
   "metadata": {},
   "outputs": [
    {
     "data": {
      "text/plain": [
       "[<matplotlib.lines.Line2D at 0x7f593b9e53d0>]"
      ]
     },
     "execution_count": 47,
     "metadata": {},
     "output_type": "execute_result"
    },
    {
     "data": {
      "image/png": "[encoded data removed]",
      "text/plain": [
       "<Figure size 432x288 with 1 Axes>"
      ]
     },
     "metadata": {
      "needs_background": "light"
     },
     "output_type": "display_data"
    }
   ],
   "source": [
    "import matplotlib.pyplot as plt\n",
    "plt.plot(alpha, error)"
   ]
  },
  {
   "cell_type": "code",
   "execution_count": 22,
   "metadata": {},
   "outputs": [
    {
     "data": {
      "text/plain": [
       "Lasso(alpha=0.1, copy_X=True, fit_intercept=True, max_iter=10000,\n",
       "      normalize=False, positive=False, precompute=False, random_state=None,\n",
       "      selection='cyclic', tol=0.0001, warm_start=False)"
      ]
     },
     "execution_count": 22,
     "metadata": {},
     "output_type": "execute_result"
    }
   ],
   "source": [
    "lml = Lasso(alpha=0.1, max_iter=10000)\n",
    "lml.fit(X_test, y_test)"
   ]
  },
  {
   "cell_type": "code",
   "execution_count": 23,
   "metadata": {},
   "outputs": [
    {
     "name": "stdout",
     "output_type": "stream",
     "text": [
      "RMSE: 1225.6412027577724\n",
      "R2: 0.9519331145375156\n",
      "\n",
      "Cross_validation:\n",
      "Mean: 1223.75047934467\n",
      "SD: 33.25694483186436\n"
     ]
    }
   ],
   "source": [
    "model_eval = model_performance(lml)\n",
    "model_eval.print_metrics(X_train, y_train)"
   ]
  },
  {
   "cell_type": "code",
   "execution_count": 39,
   "metadata": {},
   "outputs": [],
   "source": [
    "rr = Ridge()\n",
    "alpha = []\n",
    "error = []\n",
    "for i in range(1,1000):\n",
    "    alpha.append(i/100)\n",
    "    rr = Ridge(alpha=(i/100), max_iter=5000)\n",
    "    error.append(np.mean(cross_val_score(rr, X_train, y_train, scoring='neg_mean_absolute_error', cv=6)))"
   ]
  },
  {
   "cell_type": "code",
   "execution_count": 40,
   "metadata": {},
   "outputs": [
    {
     "data": {
      "text/plain": [
       "[<matplotlib.lines.Line2D at 0x7f842329f6d0>]"
      ]
     },
     "execution_count": 40,
     "metadata": {},
     "output_type": "execute_result"
    },
    {
     "data": {
      "image/png": "[encoded data removed]",
      "text/plain": [
       "<Figure size 432x288 with 1 Axes>"
      ]
     },
     "metadata": {
      "needs_background": "light"
     },
     "output_type": "display_data"
    }
   ],
   "source": [
    "import matplotlib.pyplot as plt\n",
    "plt.plot(alpha, error)"
   ]
  },
  {
   "cell_type": "markdown",
   "metadata": {},
   "source": [
    "### Batch gradient descent"
   ]
  },
  {
   "cell_type": "code",
   "execution_count": 23,
   "metadata": {},
   "outputs": [
    {
     "data": {
      "text/plain": [
       "SGDRegressor(alpha=0.0001, average=False, early_stopping=False, epsilon=0.1,\n",
       "             eta0=0.01, fit_intercept=True, l1_ratio=0.15,\n",
       "             learning_rate='invscaling', loss='squared_loss', max_iter=1000,\n",
       "             n_iter_no_change=5, penalty=None, power_t=0.25, random_state=None,\n",
       "             shuffle=True, tol=0.001, validation_fraction=0.1, verbose=0,\n",
       "             warm_start=False)"
      ]
     },
     "execution_count": 23,
     "metadata": {},
     "output_type": "execute_result"
    }
   ],
   "source": [
    "from sklearn.linear_model import SGDRegressor\n",
    "sgd_reg  = SGDRegressor(max_iter=1000, tol=1e-3, penalty=None, eta0=0.01)\n",
    "sgd_reg.fit(X_train,y_train)"
   ]
  },
  {
   "cell_type": "code",
   "execution_count": 24,
   "metadata": {},
   "outputs": [
    {
     "name": "stdout",
     "output_type": "stream",
     "text": [
      "RMSE: 1226.214678478257\n",
      "R2: 0.9518869861496637\n",
      "\n",
      "Cross_validation:\n",
      "Mean: 1229.5729421658693\n",
      "SD: 33.07360254689887\n"
     ]
    }
   ],
   "source": [
    "model_eval = model_performance(sgd_reg)\n",
    "model_eval.print_metrics(X_train, y_train)"
   ]
  },
  {
   "cell_type": "markdown",
   "metadata": {},
   "source": [
    "### Random Forest Regressor"
   ]
  },
  {
   "cell_type": "code",
   "execution_count": 40,
   "metadata": {},
   "outputs": [
    {
     "data": {
      "text/plain": [
       "RandomForestRegressor(bootstrap=True, ccp_alpha=0.0, criterion='mse',\n",
       "                      max_depth=None, max_features='auto', max_leaf_nodes=None,\n",
       "                      max_samples=None, min_impurity_decrease=0.0,\n",
       "                      min_impurity_split=None, min_samples_leaf=1,\n",
       "                      min_samples_split=2, min_weight_fraction_leaf=0.0,\n",
       "                      n_estimators=100, n_jobs=None, oob_score=False,\n",
       "                      random_state=None, verbose=0, warm_start=False)"
      ]
     },
     "execution_count": 40,
     "metadata": {},
     "output_type": "execute_result"
    }
   ],
   "source": [
    "rr  = RandomForestRegressor()\n",
    "rr.fit(X_train,y_train)"
   ]
  },
  {
   "cell_type": "code",
   "execution_count": 41,
   "metadata": {},
   "outputs": [
    {
     "name": "stdout",
     "output_type": "stream",
     "text": [
      "RMSE: 207.01392008619493\n",
      "R2: 0.9986608037854329\n",
      "\n",
      "Cross_validation:\n",
      "Mean: 560.1283890429517\n",
      "SD: 14.773184918464032\n"
     ]
    }
   ],
   "source": [
    "model_eval = model_performance(rr)\n",
    "model_eval.print_metrics(X_train, y_train)"
   ]
  },
  {
   "cell_type": "markdown",
   "metadata": {},
   "source": [
    "### Random forest performs the best. I will try to further improve the model by testing different hyperparameters using GridSearchCV"
   ]
  },
  {
   "cell_type": "code",
   "execution_count": 44,
   "metadata": {},
   "outputs": [
    {
     "name": "stdout",
     "output_type": "stream",
     "text": [
      "carat 0.5893463630240355\n",
      "lenght_x 0.006211049220298699\n",
      "width_y 0.29942714789294694\n",
      "depth_z 0.007587808756666551\n",
      "cut 0.001948989163202766\n",
      "color 0.03244782684387205\n",
      "clarity 0.06303081509897747\n"
     ]
    }
   ],
   "source": [
    "for name, score in zip(X_train.columns, rr.feature_importances_):\n",
    "    print(name, score)"
   ]
  },
  {
   "cell_type": "code",
   "execution_count": 45,
   "metadata": {},
   "outputs": [
    {
     "data": {
      "text/plain": [
       "GridSearchCV(cv=5, error_score=nan,\n",
       "             estimator=RandomForestRegressor(bootstrap=True, ccp_alpha=0.0,\n",
       "                                             criterion='mse', max_depth=None,\n",
       "                                             max_features='auto',\n",
       "                                             max_leaf_nodes=None,\n",
       "                                             max_samples=None,\n",
       "                                             min_impurity_decrease=0.0,\n",
       "                                             min_impurity_split=None,\n",
       "                                             min_samples_leaf=1,\n",
       "                                             min_samples_split=2,\n",
       "                                             min_weight_fraction_leaf=0.0,\n",
       "                                             n_estimators=100, n_jobs=None,\n",
       "                                             oob_score=False, random_state=None,\n",
       "                                             verbose=0, warm_start=False),\n",
       "             iid='deprecated', n_jobs=-1,\n",
       "             param_grid=[{'max_features': ['auto', 'sqrt', 'log2'],\n",
       "                          'n_estimators': [3, 10, 30, 50, 100, 500]}],\n",
       "             pre_dispatch='2*n_jobs', refit=True, return_train_score=True,\n",
       "             scoring='neg_mean_squared_error', verbose=0)"
      ]
     },
     "execution_count": 45,
     "metadata": {},
     "output_type": "execute_result"
    }
   ],
   "source": [
    "from sklearn.model_selection import GridSearchCV\n",
    "\n",
    "param_grid = [\n",
    "    {'n_estimators': [3, 10, 30, 50, 100, 500], 'max_features': ['auto', 'sqrt', 'log2']}    \n",
    "]\n",
    "\n",
    "forest_reg = RandomForestRegressor()\n",
    "\n",
    "grid_search = GridSearchCV(forest_reg, param_grid, cv=5, \n",
    "                          scoring='neg_mean_squared_error',\n",
    "                          return_train_score=True,\n",
    "                          n_jobs=-1)\n",
    "grid_search.fit(X_train, y_train)"
   ]
  },
  {
   "cell_type": "code",
   "execution_count": 46,
   "metadata": {},
   "outputs": [
    {
     "data": {
      "text/plain": [
       "RandomForestRegressor(bootstrap=True, ccp_alpha=0.0, criterion='mse',\n",
       "                      max_depth=None, max_features='auto', max_leaf_nodes=None,\n",
       "                      max_samples=None, min_impurity_decrease=0.0,\n",
       "                      min_impurity_split=None, min_samples_leaf=1,\n",
       "                      min_samples_split=2, min_weight_fraction_leaf=0.0,\n",
       "                      n_estimators=500, n_jobs=None, oob_score=False,\n",
       "                      random_state=None, verbose=0, warm_start=False)"
      ]
     },
     "execution_count": 46,
     "metadata": {},
     "output_type": "execute_result"
    }
   ],
   "source": [
    "grid_search.best_estimator_"
   ]
  },
  {
   "cell_type": "code",
   "execution_count": 47,
   "metadata": {},
   "outputs": [],
   "source": [
    "cvres = grid_search.cv_results_"
   ]
  },
  {
   "cell_type": "code",
   "execution_count": 48,
   "metadata": {},
   "outputs": [
    {
     "name": "stdout",
     "output_type": "stream",
     "text": [
      "646.063037200085 {'max_features': 'auto', 'n_estimators': 3}\n",
      "586.7601349267304 {'max_features': 'auto', 'n_estimators': 10}\n",
      "569.9196691924259 {'max_features': 'auto', 'n_estimators': 30}\n",
      "564.058370165919 {'max_features': 'auto', 'n_estimators': 50}\n",
      "562.1658703541988 {'max_features': 'auto', 'n_estimators': 100}\n",
      "560.0569617220045 {'max_features': 'auto', 'n_estimators': 500}\n",
      "703.3531997698924 {'max_features': 'sqrt', 'n_estimators': 3}\n",
      "610.7276959937785 {'max_features': 'sqrt', 'n_estimators': 10}\n",
      "585.2899640764643 {'max_features': 'sqrt', 'n_estimators': 30}\n",
      "576.3164715282437 {'max_features': 'sqrt', 'n_estimators': 50}\n",
      "572.5548027539171 {'max_features': 'sqrt', 'n_estimators': 100}\n",
      "569.7421676265691 {'max_features': 'sqrt', 'n_estimators': 500}\n",
      "708.6600286658614 {'max_features': 'log2', 'n_estimators': 3}\n",
      "612.7473172366757 {'max_features': 'log2', 'n_estimators': 10}\n",
      "584.4907084929786 {'max_features': 'log2', 'n_estimators': 30}\n",
      "579.0737857100241 {'max_features': 'log2', 'n_estimators': 50}\n",
      "572.1407272330767 {'max_features': 'log2', 'n_estimators': 100}\n",
      "569.7934591226258 {'max_features': 'log2', 'n_estimators': 500}\n"
     ]
    }
   ],
   "source": [
    "for mean_score, params in zip(cvres[\"mean_test_score\"], cvres[\"params\"]):\n",
    "    print(np.sqrt(-mean_score), params)"
   ]
  },
  {
   "cell_type": "code",
   "execution_count": 80,
   "metadata": {},
   "outputs": [
    {
     "ename": "ModuleNotFoundError",
     "evalue": "No module named 'xgboost'",
     "output_type": "error",
     "traceback": [
      "\u001b[0;31m---------------------------------------------------------------------------\u001b[0m",
      "\u001b[0;31mModuleNotFoundError\u001b[0m                       Traceback (most recent call last)",
      "\u001b[0;32m<ipython-input-80-e528dc1a32ff>\u001b[0m in \u001b[0;36m<module>\u001b[0;34m\u001b[0m\n\u001b[0;32m----> 1\u001b[0;31m \u001b[0;32mimport\u001b[0m \u001b[0mxgboost\u001b[0m\u001b[0;34m\u001b[0m\u001b[0;34m\u001b[0m\u001b[0m\n\u001b[0m",
      "\u001b[0;31mModuleNotFoundError\u001b[0m: No module named 'xgboost'"
     ]
    }
   ],
   "source": [
    "import xgboost"
   ]
  },
  {
   "cell_type": "code",
   "execution_count": 41,
   "metadata": {},
   "outputs": [],
   "source": [
    "alphas = np.logspace(-10, 1, 400)"
   ]
  },
  {
   "cell_type": "code",
   "execution_count": 47,
   "metadata": {},
   "outputs": [
    {
     "data": {
      "text/plain": [
       "array([1.00000000e-10, 1.06553795e-10, 1.13537112e-10, 1.20978102e-10,\n",
       "       1.28906759e-10, 1.37355044e-10, 1.46357012e-10, 1.55948950e-10,\n",
       "       1.66169525e-10, 1.77059935e-10, 1.88664080e-10, 2.01028738e-10,\n",
       "       2.14203749e-10, 2.28242224e-10, 2.43200751e-10, 2.59139630e-10,\n",
       "       2.76123110e-10, 2.94219653e-10, 3.13502206e-10, 3.34048498e-10,\n",
       "       3.55941352e-10, 3.79269019e-10, 4.04125533e-10, 4.30611093e-10,\n",
       "       4.58832461e-10, 4.88903400e-10, 5.20945127e-10, 5.55086803e-10,\n",
       "       5.91466054e-10, 6.30229527e-10, 6.71533479e-10, 7.15544407e-10,\n",
       "       7.62439721e-10, 8.12408458e-10, 8.65652043e-10, 9.22385104e-10,\n",
       "       9.82836333e-10, 1.04724941e-09, 1.11588399e-09, 1.18901674e-09,\n",
       "       1.26694246e-09, 1.34997528e-09, 1.43844989e-09, 1.53272295e-09,\n",
       "       1.63317447e-09, 1.74020937e-09, 1.85425913e-09, 1.97578347e-09,\n",
       "       2.10527227e-09, 2.24324750e-09, 2.39026535e-09, 2.54691844e-09,\n",
       "       2.71383825e-09, 2.89169765e-09, 3.08121359e-09, 3.28315001e-09,\n",
       "       3.49832094e-09, 3.72759372e-09, 3.97189257e-09, 4.23220227e-09,\n",
       "       4.50957214e-09, 4.80512025e-09, 5.12003798e-09, 5.45559478e-09,\n",
       "       5.81314328e-09, 6.19412478e-09, 6.60007502e-09, 7.03263041e-09,\n",
       "       7.49353460e-09, 7.98464550e-09, 8.50794280e-09, 9.06553593e-09,\n",
       "       9.65967258e-09, 1.02927477e-08, 1.09673133e-08, 1.16860886e-08,\n",
       "       1.24519708e-08, 1.32680475e-08, 1.41376081e-08, 1.50641580e-08,\n",
       "       1.60514320e-08, 1.71034100e-08, 1.82243324e-08, 1.94187178e-08,\n",
       "       2.06913808e-08, 2.20474515e-08, 2.34923963e-08, 2.50320398e-08,\n",
       "       2.66725884e-08, 2.84206552e-08, 3.02832867e-08, 3.22679912e-08,\n",
       "       3.43827692e-08, 3.66361454e-08, 3.90372033e-08, 4.15956216e-08,\n",
       "       4.43217134e-08, 4.72264677e-08, 5.03215936e-08, 5.36195677e-08,\n",
       "       5.71336843e-08, 6.08781089e-08, 6.48679353e-08, 6.91192469e-08,\n",
       "       7.36491807e-08, 7.84759970e-08, 8.36191530e-08, 8.90993810e-08,\n",
       "       9.49387718e-08, 1.01160864e-07, 1.07790740e-07, 1.14855124e-07,\n",
       "       1.22382494e-07, 1.30403192e-07, 1.38949549e-07, 1.48056018e-07,\n",
       "       1.57759306e-07, 1.68098528e-07, 1.79115361e-07, 1.90854214e-07,\n",
       "       2.03362408e-07, 2.16690364e-07, 2.30891806e-07, 2.46023982e-07,\n",
       "       2.62147890e-07, 2.79328525e-07, 2.97635144e-07, 3.17141542e-07,\n",
       "       3.37926348e-07, 3.60073348e-07, 3.83671818e-07, 4.08816882e-07,\n",
       "       4.35609903e-07, 4.64158883e-07, 4.94578905e-07, 5.26992593e-07,\n",
       "       5.61530608e-07, 5.98332173e-07, 6.37545637e-07, 6.79329072e-07,\n",
       "       7.23850907e-07, 7.71290612e-07, 8.21839418e-07, 8.75701089e-07,\n",
       "       9.33092744e-07, 9.94245730e-07, 1.05940656e-06, 1.12883789e-06,\n",
       "       1.20281961e-06, 1.28164995e-06, 1.36564666e-06, 1.45514834e-06,\n",
       "       1.55051578e-06, 1.65213341e-06, 1.76041084e-06, 1.87578456e-06,\n",
       "       1.99871964e-06, 2.12971163e-06, 2.26928856e-06, 2.41801308e-06,\n",
       "       2.57648471e-06, 2.74534223e-06, 2.92526634e-06, 3.11698230e-06,\n",
       "       3.32126293e-06, 3.53893170e-06, 3.77086603e-06, 4.01800086e-06,\n",
       "       4.28133240e-06, 4.56192215e-06, 4.86090118e-06, 5.17947468e-06,\n",
       "       5.51892683e-06, 5.88062599e-06, 6.26603016e-06, 6.67669294e-06,\n",
       "       7.11426971e-06, 7.58052437e-06, 8.07733640e-06, 8.60670847e-06,\n",
       "       9.17077451e-06, 9.77180827e-06, 1.04122326e-05, 1.10946289e-05,\n",
       "       1.18217482e-05, 1.25965213e-05, 1.34220715e-05, 1.43017266e-05,\n",
       "       1.52390324e-05, 1.62377674e-05, 1.73019574e-05, 1.84358922e-05,\n",
       "       1.96441428e-05, 2.09315797e-05, 2.23033925e-05, 2.37651111e-05,\n",
       "       2.53226278e-05, 2.69822209e-05, 2.87505804e-05, 3.06348345e-05,\n",
       "       3.26425788e-05, 3.47819065e-05, 3.70614414e-05, 3.94903723e-05,\n",
       "       4.20784904e-05, 4.48362284e-05, 4.77747029e-05, 5.09057590e-05,\n",
       "       5.42420181e-05, 5.77969288e-05, 6.15848211e-05, 6.56209641e-05,\n",
       "       6.99216276e-05, 7.45041477e-05, 7.93869969e-05, 8.45898580e-05,\n",
       "       9.01337039e-05, 9.60408821e-05, 1.02335205e-04, 1.09042044e-04,\n",
       "       1.16188436e-04, 1.23803188e-04, 1.31916996e-04, 1.40562565e-04,\n",
       "       1.49774748e-04, 1.59590678e-04, 1.70049924e-04, 1.81194647e-04,\n",
       "       1.93069773e-04, 2.05723170e-04, 2.19205845e-04, 2.33572147e-04,\n",
       "       2.48879987e-04, 2.65191071e-04, 2.82571150e-04, 3.01090284e-04,\n",
       "       3.20823125e-04, 3.41849215e-04, 3.64253312e-04, 3.88125727e-04,\n",
       "       4.13562692e-04, 4.40666743e-04, 4.69547138e-04, 5.00320295e-04,\n",
       "       5.33110262e-04, 5.68049216e-04, 6.05277998e-04, 6.44946677e-04,\n",
       "       6.87215161e-04, 7.32253834e-04, 7.80244249e-04, 8.31379858e-04,\n",
       "       8.85866790e-04, 9.43924684e-04, 1.00578757e-03, 1.07170483e-03,\n",
       "       1.14194217e-03, 1.21678272e-03, 1.29652816e-03, 1.38149996e-03,\n",
       "       1.47204064e-03, 1.56851516e-03, 1.67131243e-03, 1.78084683e-03,\n",
       "       1.89755988e-03, 2.02192206e-03, 2.15443469e-03, 2.29563192e-03,\n",
       "       2.44608294e-03, 2.60639420e-03, 2.77721193e-03, 2.95922471e-03,\n",
       "       3.15316623e-03, 3.35981829e-03, 3.58001389e-03, 3.81464066e-03,\n",
       "       4.06464440e-03, 4.33103286e-03, 4.61487988e-03, 4.91732965e-03,\n",
       "       5.23960135e-03, 5.58299409e-03, 5.94889208e-03, 6.33877027e-03,\n",
       "       6.75420029e-03, 7.19685673e-03, 7.66852397e-03, 8.17110332e-03,\n",
       "       8.70662068e-03, 9.27723476e-03, 9.88524571e-03, 1.05331045e-02,\n",
       "       1.12234225e-02, 1.19589826e-02, 1.27427499e-02, 1.35778836e-02,\n",
       "       1.44677502e-02, 1.54159369e-02, 1.64262658e-02, 1.75028096e-02,\n",
       "       1.86499079e-02, 1.98721847e-02, 2.11745669e-02, 2.25623046e-02,\n",
       "       2.40409918e-02, 2.56165892e-02, 2.72954479e-02, 2.90843356e-02,\n",
       "       3.09904634e-02, 3.30215148e-02, 3.51856773e-02, 3.74916744e-02,\n",
       "       3.99488019e-02, 4.25669645e-02, 4.53567162e-02, 4.83293024e-02,\n",
       "       5.14967058e-02, 5.48716944e-02, 5.84678728e-02, 6.22997373e-02,\n",
       "       6.63827344e-02, 7.07333228e-02, 7.53690398e-02, 8.03085722e-02,\n",
       "       8.55718314e-02, 9.11800339e-02, 9.71557865e-02, 1.03523178e-01,\n",
       "       1.10307874e-01, 1.17537227e-01, 1.25240375e-01, 1.33448373e-01,\n",
       "       1.42194306e-01, 1.51513429e-01, 1.61443309e-01, 1.72023972e-01,\n",
       "       1.83298071e-01, 1.95311051e-01, 2.08111337e-01, 2.21750528e-01,\n",
       "       2.36283603e-01, 2.51769146e-01, 2.68269580e-01, 2.85851418e-01,\n",
       "       3.04585534e-01, 3.24547446e-01, 3.45817620e-01, 3.68481798e-01,\n",
       "       3.92631340e-01, 4.18363594e-01, 4.45782286e-01, 4.74997943e-01,\n",
       "       5.06128335e-01, 5.39298949e-01, 5.74643497e-01, 6.12304454e-01,\n",
       "       6.52433633e-01, 6.95192796e-01, 7.40754307e-01, 7.89301826e-01,\n",
       "       8.41031051e-01, 8.96150502e-01, 9.54882369e-01, 1.01746340e+00,\n",
       "       1.08414587e+00, 1.15519857e+00, 1.23090791e+00, 1.31157910e+00,\n",
       "       1.39753730e+00, 1.48912903e+00, 1.58672350e+00, 1.69071410e+00,\n",
       "       1.80152004e+00, 1.91958797e+00, 2.04539383e+00, 2.17944475e+00,\n",
       "       2.32228110e+00, 2.47447864e+00, 2.63665090e+00, 2.80945159e+00,\n",
       "       2.99357729e+00, 3.18977022e+00, 3.39882122e+00, 3.62157300e+00,\n",
       "       3.85892347e+00, 4.11182940e+00, 4.38131027e+00, 4.66845237e+00,\n",
       "       4.97441317e+00, 5.30042602e+00, 5.64780507e+00, 6.01795064e+00,\n",
       "       6.41235480e+00, 6.83260739e+00, 7.28040247e+00, 7.75754513e+00,\n",
       "       8.26595874e+00, 8.80769273e+00, 9.38493086e+00, 1.00000000e+01])"
      ]
     },
     "execution_count": 47,
     "metadata": {},
     "output_type": "execute_result"
    }
   ],
   "source": [
    "alphas"
   ]
  },
  {
   "cell_type": "code",
   "execution_count": 43,
   "metadata": {},
   "outputs": [],
   "source": [
    "from sklearn.linear_model import RidgeCV\n",
    "regr_cv = RidgeCV(alphas=alphas)"
   ]
  },
  {
   "cell_type": "code",
   "execution_count": 44,
   "metadata": {},
   "outputs": [],
   "source": [
    "model_cv = regr_cv.fit(X_test, y_test)"
   ]
  },
  {
   "cell_type": "code",
   "execution_count": 45,
   "metadata": {},
   "outputs": [
    {
     "data": {
      "text/plain": [
       "0.44578228604196973"
      ]
     },
     "execution_count": 45,
     "metadata": {},
     "output_type": "execute_result"
    }
   ],
   "source": [
    "model_cv.alpha_"
   ]
  },
  {
   "cell_type": "code",
   "execution_count": 46,
   "metadata": {},
   "outputs": [
    {
     "name": "stdout",
     "output_type": "stream",
     "text": [
      "RMSE: 1225.5845721580035\n",
      "R2: 0.9519376684136798\n",
      "\n",
      "Cross_validation:\n",
      "Mean: 1223.7545097010793\n",
      "SD: 33.270977215167\n"
     ]
    }
   ],
   "source": [
    "model_eval = model_performance(model_cv)\n",
    "model_eval.print_metrics(X_train, y_train)"
   ]
  }
 ],
 "metadata": {
  "kernelspec": {
   "display_name": "Python 3",
   "language": "python",
   "name": "python3"
  },
  "language_info": {
   "codemirror_mode": {
    "name": "ipython",
    "version": 3
   },
   "file_extension": ".py",
   "mimetype": "text/x-python",
   "name": "python",
   "nbconvert_exporter": "python",
   "pygments_lexer": "ipython3",
   "version": "3.7.4"
  }
 },
 "nbformat": 4,
 "nbformat_minor": 4
}
